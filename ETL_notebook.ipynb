{
 "cells": [
  {
   "cell_type": "markdown",
   "metadata": {
    "toc": true
   },
   "source": [
    "<h1>Table of Contents<span class=\"tocSkip\"></span></h1>\n",
    "<div class=\"toc\"><ul class=\"toc-item\"><li><span><a href=\"#Imports\" data-toc-modified-id=\"Imports-1\"><span class=\"toc-item-num\">1&nbsp;&nbsp;</span>Imports</a></span></li><li><span><a href=\"#Pre-Process-Files\" data-toc-modified-id=\"Pre-Process-Files-2\"><span class=\"toc-item-num\">2&nbsp;&nbsp;</span>Pre-Process Files</a></span></li><li><span><a href=\"#Create-Tables-and-Load-CSV-Data\" data-toc-modified-id=\"Create-Tables-and-Load-CSV-Data-3\"><span class=\"toc-item-num\">3&nbsp;&nbsp;</span>Create Tables and Load CSV Data</a></span><ul class=\"toc-item\"><li><ul class=\"toc-item\"><li><ul class=\"toc-item\"><li><span><a href=\"#Create-Cluster\" data-toc-modified-id=\"Create-Cluster-3.0.0.1\"><span class=\"toc-item-num\">3.0.0.1&nbsp;&nbsp;</span>Create Cluster</a></span></li><li><span><a href=\"#Create-Keyspace\" data-toc-modified-id=\"Create-Keyspace-3.0.0.2\"><span class=\"toc-item-num\">3.0.0.2&nbsp;&nbsp;</span>Create Keyspace</a></span></li><li><span><a href=\"#Set-Keyspace\" data-toc-modified-id=\"Set-Keyspace-3.0.0.3\"><span class=\"toc-item-num\">3.0.0.3&nbsp;&nbsp;</span>Set Keyspace</a></span></li></ul></li></ul></li></ul></li><li><span><a href=\"#Create-Tables\" data-toc-modified-id=\"Create-Tables-4\"><span class=\"toc-item-num\">4&nbsp;&nbsp;</span>Create Tables</a></span><ul class=\"toc-item\"><li><span><a href=\"#Table-1:-song\" data-toc-modified-id=\"Table-1:-song-4.1\"><span class=\"toc-item-num\">4.1&nbsp;&nbsp;</span>Table 1: song</a></span><ul class=\"toc-item\"><li><span><a href=\"#Composite-Primary-Key\" data-toc-modified-id=\"Composite-Primary-Key-4.1.1\"><span class=\"toc-item-num\">4.1.1&nbsp;&nbsp;</span>Composite Primary Key</a></span></li><li><span><a href=\"#Validate-table-and-SELECT-query\" data-toc-modified-id=\"Validate-table-and-SELECT-query-4.1.2\"><span class=\"toc-item-num\">4.1.2&nbsp;&nbsp;</span>Validate table and SELECT query</a></span></li></ul></li><li><span><a href=\"#Table-2:-user_playlist_session\" data-toc-modified-id=\"Table-2:-user_playlist_session-4.2\"><span class=\"toc-item-num\">4.2&nbsp;&nbsp;</span>Table 2: user_playlist_session</a></span></li><li><span><a href=\"#Composite-Primary-Key\" data-toc-modified-id=\"Composite-Primary-Key-4.3\"><span class=\"toc-item-num\">4.3&nbsp;&nbsp;</span>Composite Primary Key</a></span><ul class=\"toc-item\"><li><span><a href=\"#Validate-table-and-SELECT-query\" data-toc-modified-id=\"Validate-table-and-SELECT-query-4.3.1\"><span class=\"toc-item-num\">4.3.1&nbsp;&nbsp;</span>Validate table and SELECT query</a></span></li></ul></li><li><span><a href=\"#Table-3:-username\" data-toc-modified-id=\"Table-3:-username-4.4\"><span class=\"toc-item-num\">4.4&nbsp;&nbsp;</span>Table 3: username</a></span><ul class=\"toc-item\"><li><span><a href=\"#Example-Request\" data-toc-modified-id=\"Example-Request-4.4.1\"><span class=\"toc-item-num\">4.4.1&nbsp;&nbsp;</span>Example Request</a></span></li><li><span><a href=\"#Primary-Key\" data-toc-modified-id=\"Primary-Key-4.4.2\"><span class=\"toc-item-num\">4.4.2&nbsp;&nbsp;</span>Primary Key</a></span></li><li><span><a href=\"#Validate-table-and-select-query\" data-toc-modified-id=\"Validate-table-and-select-query-4.4.3\"><span class=\"toc-item-num\">4.4.3&nbsp;&nbsp;</span>Validate table and select query</a></span></li></ul></li></ul></li><li><span><a href=\"#Drop-Tables\" data-toc-modified-id=\"Drop-Tables-5\"><span class=\"toc-item-num\">5&nbsp;&nbsp;</span>Drop Tables</a></span></li><li><span><a href=\"#Close-Session-and-Cluster-Connection¶\" data-toc-modified-id=\"Close-Session-and-Cluster-Connection¶-6\"><span class=\"toc-item-num\">6&nbsp;&nbsp;</span>Close Session and Cluster Connection¶</a></span></li></ul></div>"
   ]
  },
  {
   "cell_type": "markdown",
   "metadata": {},
   "source": [
    "__<font size=\"6\">Apache Cassandra ETL Notebook</font>__"
   ]
  },
  {
   "cell_type": "markdown",
   "metadata": {},
   "source": [
    "# Imports"
   ]
  },
  {
   "cell_type": "code",
   "execution_count": 1,
   "metadata": {},
   "outputs": [],
   "source": [
    "import cassandra\n",
    "from cassandra.cluster import Cluster\n",
    "from cassandra.query import ordered_dict_factory\n",
    "\n",
    "import pandas as pd\n",
    "import re\n",
    "import os\n",
    "import glob\n",
    "import numpy as np\n",
    "import json\n",
    "import csv"
   ]
  },
  {
   "cell_type": "markdown",
   "metadata": {},
   "source": [
    "# Pre-Process Files"
   ]
  },
  {
   "cell_type": "markdown",
   "metadata": {},
   "source": [
    "Creating list of filepaths to process original event csv data files"
   ]
  },
  {
   "cell_type": "code",
   "execution_count": 2,
   "metadata": {},
   "outputs": [
    {
     "name": "stdout",
     "output_type": "stream",
     "text": [
      "/home/workspace\n"
     ]
    }
   ],
   "source": [
    "# checking current working directory\n",
    "print(os.getcwd())\n",
    "\n",
    "# Get current folder and subfolder event data\n",
    "filepath = os.getcwd() + '/event_data'\n",
    "\n",
    "# Create for loop to create a list of files and collect each filepath\n",
    "for root, dirs, files in os.walk(filepath):  \n",
    "    # join the file path and roots with the subdirectories using glob\n",
    "    file_path_list = glob.glob(os.path.join(root,'*'))"
   ]
  },
  {
   "cell_type": "markdown",
   "metadata": {},
   "source": [
    "Processing the files to create the data file csv that will be used for Apache Casssandra tables"
   ]
  },
  {
   "cell_type": "code",
   "execution_count": 3,
   "metadata": {},
   "outputs": [],
   "source": [
    "# initiating an empty list of rows that will be generated from each file\n",
    "full_data_rows_list = [] \n",
    "    \n",
    "# for every filepath in the file path list, read csv file and load data to full_data_rows_list\n",
    "for f in file_path_list:\n",
    "\n",
    "    # reading csv file \n",
    "    with open(f, 'r', encoding = 'utf8', newline='') as csvfile: \n",
    "        # creating a csv reader object \n",
    "        csvreader = csv.reader(csvfile) \n",
    "        next(csvreader)\n",
    "        \n",
    "        # extracting each data row one by one and append it        \n",
    "        for line in csvreader:\n",
    "            #print(line)\n",
    "            full_data_rows_list.append(line) \n",
    "\n",
    "# creating a smaller event data csv file called event_datafile_full csv that will be used to insert data into the \\\n",
    "# Apache Cassandra tables\n",
    "csv.register_dialect('myDialect', quoting=csv.QUOTE_ALL, skipinitialspace=True)\n",
    "\n",
    "with open('event_datafile_new.csv', 'w', encoding = 'utf8', newline='') as f:\n",
    "    writer = csv.writer(f, dialect='myDialect')\n",
    "    writer.writerow(['artist','firstName','gender','itemInSession','lastName','length',\\\n",
    "                'level','location','sessionId','song','userId'])\n",
    "    for row in full_data_rows_list:\n",
    "        if (row[0] == ''):\n",
    "            continue\n",
    "        writer.writerow((row[0], row[2], row[3], row[4], row[5], row[6], row[7], row[8], row[12], row[13], row[16]))\n"
   ]
  },
  {
   "cell_type": "code",
   "execution_count": 4,
   "metadata": {},
   "outputs": [
    {
     "name": "stdout",
     "output_type": "stream",
     "text": [
      "6821\n"
     ]
    }
   ],
   "source": [
    "# check the number of rows in your csv file\n",
    "with open('event_datafile_new.csv', 'r', encoding = 'utf8') as f:\n",
    "    print(sum(1 for line in f))"
   ]
  },
  {
   "cell_type": "markdown",
   "metadata": {},
   "source": [
    "# Create Tables and Load CSV Data"
   ]
  },
  {
   "cell_type": "markdown",
   "metadata": {},
   "source": [
    "The image below is a screenshot of what the denormalized data should appear like in the event_datafile_new.csv after preprocssing code above is executed:<br>\n",
    "\n",
    "<img src=\"images/image_event_datafile_new.jpg\">"
   ]
  },
  {
   "cell_type": "markdown",
   "metadata": {},
   "source": [
    "#### Create Cluster"
   ]
  },
  {
   "cell_type": "code",
   "execution_count": 2,
   "metadata": {},
   "outputs": [],
   "source": [
    "# init cluster on local machine\n",
    "cluster = Cluster(contact_points=['127.0.0.1'])\n",
    "\n",
    "# create session to establish connection and begin executing queries\n",
    "session = cluster.connect()"
   ]
  },
  {
   "cell_type": "markdown",
   "metadata": {},
   "source": [
    "#### Create Keyspace"
   ]
  },
  {
   "cell_type": "code",
   "execution_count": 6,
   "metadata": {},
   "outputs": [],
   "source": [
    "# Create a Keyspace \n",
    "\n",
    "try:\n",
    "    session.execute(\"\"\"\n",
    "    CREATE keyspace \n",
    "    IF NOT EXISTS sparkify WITH replication = {'class' : 'SimpleStrategy', \n",
    "                                               'replication_factor' : 1}\n",
    "    \"\"\")\n",
    "except Exception as e:\n",
    "    print(e)"
   ]
  },
  {
   "cell_type": "markdown",
   "metadata": {},
   "source": [
    "#### Set Keyspace"
   ]
  },
  {
   "cell_type": "code",
   "execution_count": 7,
   "metadata": {},
   "outputs": [],
   "source": [
    "# Set KEYSPACE to the keyspace specified above\n",
    "try:\n",
    "    session.set_keyspace(\"sparkify\")\n",
    "except Exception as e:\n",
    "    print(e)"
   ]
  },
  {
   "cell_type": "markdown",
   "metadata": {},
   "source": [
    "# Create Tables"
   ]
  },
  {
   "cell_type": "markdown",
   "metadata": {},
   "source": [
    "## Table 1: song\n",
    "\n",
    "Example Request: Get the `artist`, `song` title and song's `length` in the music app history that was heard during `sessionId = 338`, and `itemInSession = 4`\n",
    "\n",
    "### Composite Primary Key\n",
    "The `sessionid` column is the partition key because the associated `SELECT` query will filter results by `sessionId`. Having the partition key reflect the `SELECT` query will decrease query latency. `itemInSession` is the clustering column to prevent data integrity issues regarding overidden duplicate values."
   ]
  },
  {
   "cell_type": "code",
   "execution_count": 8,
   "metadata": {},
   "outputs": [],
   "source": [
    "# example query that the model will be based on\n",
    "song_query = \"\"\"\n",
    "SELECT \n",
    "    artist, \n",
    "    song, \n",
    "    length \n",
    "FROM song \n",
    "WHERE sessionid = 338 \n",
    "    AND itemInSession = 4 \n",
    "\"\"\""
   ]
  },
  {
   "cell_type": "code",
   "execution_count": 9,
   "metadata": {},
   "outputs": [],
   "source": [
    "#create song table \n",
    "song_table = \"\"\" \n",
    "CREATE TABLE IF NOT EXISTS song \n",
    "    (\n",
    "        sessionid       INT, \n",
    "        itemInSession   INT, \n",
    "        artist          TEXT, \n",
    "        length          FLOAT, \n",
    "        song            TEXT,\n",
    "        PRIMARY KEY     (sessionid, itemInSession) \n",
    "    )\n",
    "\"\"\"\n",
    "\n",
    "try:\n",
    "    session.execute(song_table)\n",
    "except Exception as e:\n",
    "    print(e)"
   ]
  },
  {
   "cell_type": "code",
   "execution_count": 10,
   "metadata": {},
   "outputs": [],
   "source": [
    "#extract csv data\n",
    "file = 'event_datafile_new.csv'\n",
    "\n",
    "# extract apporiate data from csv and load into song table\n",
    "with open(file, encoding = 'utf8') as f:\n",
    "    csvreader = csv.reader(f)\n",
    "    next(csvreader) # skip header\n",
    "    for line in csvreader:\n",
    "        query = \"INSERT INTO song (sessionId, itemInSession, artist, length, song)\"\n",
    "        query = query + \"VALUES (%s, %s, %s, %s, %s)\"\n",
    "        # rearrange order of csv values to match insert query \n",
    "        session.execute(query, ([int(line[8]), int(line[3]), line[0], float(line[5]), line[9]]))"
   ]
  },
  {
   "cell_type": "markdown",
   "metadata": {},
   "source": [
    "### Validate table and SELECT query"
   ]
  },
  {
   "cell_type": "code",
   "execution_count": 11,
   "metadata": {
    "scrolled": true
   },
   "outputs": [
    {
     "data": {
      "text/html": [
       "<div>\n",
       "<style scoped>\n",
       "    .dataframe tbody tr th:only-of-type {\n",
       "        vertical-align: middle;\n",
       "    }\n",
       "\n",
       "    .dataframe tbody tr th {\n",
       "        vertical-align: top;\n",
       "    }\n",
       "\n",
       "    .dataframe thead th {\n",
       "        text-align: right;\n",
       "    }\n",
       "</style>\n",
       "<table border=\"1\" class=\"dataframe\">\n",
       "  <thead>\n",
       "    <tr style=\"text-align: right;\">\n",
       "      <th></th>\n",
       "      <th>artist</th>\n",
       "      <th>length</th>\n",
       "      <th>song</th>\n",
       "    </tr>\n",
       "  </thead>\n",
       "  <tbody>\n",
       "    <tr>\n",
       "      <th>0</th>\n",
       "      <td>Faithless</td>\n",
       "      <td>495.307312</td>\n",
       "      <td>Music Matters (Mark Knight Dub)</td>\n",
       "    </tr>\n",
       "  </tbody>\n",
       "</table>\n",
       "</div>"
      ],
      "text/plain": [
       "      artist      length                             song\n",
       "0  Faithless  495.307312  Music Matters (Mark Knight Dub)"
      ]
     },
     "execution_count": 11,
     "metadata": {},
     "output_type": "execute_result"
    }
   ],
   "source": [
    "#output of SELECT queries will be ordered dictionaries (used for creating output dataframe)\n",
    "session.row_factory = ordered_dict_factory\n",
    "\n",
    "#execute SELECT query\n",
    "try:\n",
    "    rows = session.execute(song_query)\n",
    "except Exception as e:\n",
    "    print(e)\n",
    "\n",
    "#initialize output dataframe\n",
    "song_df = pd.DataFrame(columns=['artist', 'length', 'song'])\n",
    "#append query output to dataframe\n",
    "for row in rows:\n",
    "    song_df = song_df.append(row, ignore_index=True)\n",
    "    \n",
    "song_df.head()"
   ]
  },
  {
   "cell_type": "markdown",
   "metadata": {},
   "source": [
    "## Table 2: user_playlist_session\n",
    "\n",
    "Example Request: Get name of artist, song (sorted by itemInSession) and user (first and last name) for userid = 10, sessionid = 182\n",
    "\n",
    "## Composite Primary Key\n",
    "`userId` and `sessionId` are the partition keys because the associated `SELECT` query will filter results by `userId` and `sessionId`. Having the partition key reflect the `SELECT` query will decrease query latency. The `sessionId` column is the second partition key to prevent data integrity issues and to keep sessions from the same `userId` together within the same node.  `itemInSession` is the clustering column because the query requests the output to be ordered by `itemInSession`."
   ]
  },
  {
   "cell_type": "code",
   "execution_count": 18,
   "metadata": {},
   "outputs": [],
   "source": [
    "# example query that the model will be based on\n",
    "user_playlist_session_query = \"\"\"\n",
    "SELECT  \n",
    "    artist,\n",
    "    song,\n",
    "    firstName,\n",
    "    lastName\n",
    "FROM user_playlist_session\n",
    "WHERE userId = 10\n",
    "    AND sessionId = 182\n",
    "\"\"\"\n",
    "                    "
   ]
  },
  {
   "cell_type": "code",
   "execution_count": 13,
   "metadata": {},
   "outputs": [],
   "source": [
    "#create user_playlist_session table\n",
    "user_playlist_session_table = \"\"\"\n",
    "CREATE TABLE IF NOT EXISTS user_playlist_session\n",
    "    (\n",
    "        userId        INT,\n",
    "        sessionId     INT, \n",
    "        itemInSession INT,\n",
    "        artist        TEXT, \n",
    "        firstName     TEXT, \n",
    "        lastName      TEXT,\n",
    "        song          TEXT, \n",
    "        PRIMARY KEY   ((userId, sessionId), itemInSession)\n",
    "    )\n",
    "\"\"\"\n",
    "\n",
    "try:\n",
    "    session.execute(user_playlist_session_table)\n",
    "except Exception as e:\n",
    "    print(e)"
   ]
  },
  {
   "cell_type": "code",
   "execution_count": 14,
   "metadata": {},
   "outputs": [],
   "source": [
    "# extract apporiate data from csv and load into user_playlist_session table\n",
    "with open(file, encoding = 'utf8') as f:\n",
    "    csvreader = csv.reader(f)\n",
    "    # skip header\n",
    "    next(csvreader) \n",
    "    for line in csvreader:\n",
    "        query = \"INSERT INTO user_playlist_session (userId, sessionId, itemInSession, artist, firstName, lastName, song)\"\n",
    "        query = query + \"VALUES (%s, %s, %s, %s, %s, %s, %s)\"\n",
    "        # rearrange order of csv values to match insert query \n",
    "        session.execute(query, ([int(line[10]), int(line[8]), int(line[3]), line[0], line[1], line[4], line[9]]))"
   ]
  },
  {
   "cell_type": "markdown",
   "metadata": {},
   "source": [
    "### Validate table and SELECT query"
   ]
  },
  {
   "cell_type": "code",
   "execution_count": 19,
   "metadata": {
    "scrolled": true
   },
   "outputs": [
    {
     "data": {
      "text/html": [
       "<div>\n",
       "<style scoped>\n",
       "    .dataframe tbody tr th:only-of-type {\n",
       "        vertical-align: middle;\n",
       "    }\n",
       "\n",
       "    .dataframe tbody tr th {\n",
       "        vertical-align: top;\n",
       "    }\n",
       "\n",
       "    .dataframe thead th {\n",
       "        text-align: right;\n",
       "    }\n",
       "</style>\n",
       "<table border=\"1\" class=\"dataframe\">\n",
       "  <thead>\n",
       "    <tr style=\"text-align: right;\">\n",
       "      <th></th>\n",
       "      <th>artist</th>\n",
       "      <th>song</th>\n",
       "      <th>firstname</th>\n",
       "      <th>lastname</th>\n",
       "    </tr>\n",
       "  </thead>\n",
       "  <tbody>\n",
       "    <tr>\n",
       "      <th>0</th>\n",
       "      <td>Down To The Bone</td>\n",
       "      <td>Keep On Keepin' On</td>\n",
       "      <td>Sylvie</td>\n",
       "      <td>Cruz</td>\n",
       "    </tr>\n",
       "    <tr>\n",
       "      <th>1</th>\n",
       "      <td>Three Drives</td>\n",
       "      <td>Greece 2000</td>\n",
       "      <td>Sylvie</td>\n",
       "      <td>Cruz</td>\n",
       "    </tr>\n",
       "    <tr>\n",
       "      <th>2</th>\n",
       "      <td>Sebastien Tellier</td>\n",
       "      <td>Kilometer</td>\n",
       "      <td>Sylvie</td>\n",
       "      <td>Cruz</td>\n",
       "    </tr>\n",
       "    <tr>\n",
       "      <th>3</th>\n",
       "      <td>Lonnie Gordon</td>\n",
       "      <td>Catch You Baby (Steve Pitron &amp; Max Sanna Radio...</td>\n",
       "      <td>Sylvie</td>\n",
       "      <td>Cruz</td>\n",
       "    </tr>\n",
       "  </tbody>\n",
       "</table>\n",
       "</div>"
      ],
      "text/plain": [
       "              artist                                               song  \\\n",
       "0   Down To The Bone                                 Keep On Keepin' On   \n",
       "1       Three Drives                                        Greece 2000   \n",
       "2  Sebastien Tellier                                          Kilometer   \n",
       "3      Lonnie Gordon  Catch You Baby (Steve Pitron & Max Sanna Radio...   \n",
       "\n",
       "  firstname lastname  \n",
       "0    Sylvie     Cruz  \n",
       "1    Sylvie     Cruz  \n",
       "2    Sylvie     Cruz  \n",
       "3    Sylvie     Cruz  "
      ]
     },
     "execution_count": 19,
     "metadata": {},
     "output_type": "execute_result"
    }
   ],
   "source": [
    "#execute SELECT query\n",
    "try:\n",
    "    rows = session.execute(user_playlist_session_query)\n",
    "except Exception as e:\n",
    "    print(e)\n",
    "    \n",
    "#initialize output dataframe    \n",
    "df_song_playlist_session = pd.DataFrame(columns=['artist', 'song', 'firstname', 'lastname'])\n",
    "\n",
    "#append query output to dataframe\n",
    "for row in rows:\n",
    "    df_song_playlist_session = df_song_playlist_session.append(row, ignore_index=True)\n",
    "df_song_playlist_session.head()"
   ]
  },
  {
   "cell_type": "markdown",
   "metadata": {},
   "source": [
    "## Table 3: username\n",
    "\n",
    "### Example Request\n",
    "Get every user name (first and last) in my music app history who listened to the song 'All Hands Against His Own'\n",
    "\n",
    "### Primary Key\n",
    "The `song` column is the partition keys because the associated `SELECT` query will filter results by `song`. The `userId` column is the first clustering column to prevent separate users with the same first and last name to be stored as one record. The artist column is a clustering column to prevent different artists with the same song to be stored as one record. "
   ]
  },
  {
   "cell_type": "code",
   "execution_count": 20,
   "metadata": {},
   "outputs": [],
   "source": [
    "# Example SELECT query\n",
    "username_query = \"\"\"\n",
    "SELECT  firstName, \n",
    "        lastName\n",
    "FROM username \n",
    "WHERE song = 'All Hands Against His Own'\n",
    "\"\"\"\n",
    "                    "
   ]
  },
  {
   "cell_type": "code",
   "execution_count": 21,
   "metadata": {},
   "outputs": [],
   "source": [
    "# create username table\n",
    "username_table = \"\"\"\n",
    "CREATE TABLE IF NOT EXISTS username \n",
    "    (\n",
    "        song          TEXT,\n",
    "        userId        INT,\n",
    "        artist        TEXT, \n",
    "        firstName     TEXT, \n",
    "        lastName      TEXT,\n",
    "        PRIMARY KEY   ((song), userId, artist, firstName, lastName)\n",
    "    )\n",
    "\"\"\"\n",
    "\n",
    "try:\n",
    "    session.execute(username_table)\n",
    "except Exception as e:\n",
    "    print(e)"
   ]
  },
  {
   "cell_type": "code",
   "execution_count": 22,
   "metadata": {},
   "outputs": [],
   "source": [
    "# extract apporiate data from csv and load into username table\n",
    "with open(file, encoding = 'utf8') as f:\n",
    "    csvreader = csv.reader(f)\n",
    "    # skip header\n",
    "    next(csvreader) \n",
    "    for line in csvreader:\n",
    "        query = \"INSERT INTO username (song, userId, artist, firstName, lastName)\"\n",
    "        query = query + \"VALUES (%s, %s, %s, %s, %s)\"\n",
    "        session.execute(query, ([line[9], int(line[10]), line[0], line[1], line[4]]))"
   ]
  },
  {
   "cell_type": "markdown",
   "metadata": {},
   "source": [
    "### Validate table and select query"
   ]
  },
  {
   "cell_type": "code",
   "execution_count": 23,
   "metadata": {
    "scrolled": true
   },
   "outputs": [
    {
     "data": {
      "text/html": [
       "<div>\n",
       "<style scoped>\n",
       "    .dataframe tbody tr th:only-of-type {\n",
       "        vertical-align: middle;\n",
       "    }\n",
       "\n",
       "    .dataframe tbody tr th {\n",
       "        vertical-align: top;\n",
       "    }\n",
       "\n",
       "    .dataframe thead th {\n",
       "        text-align: right;\n",
       "    }\n",
       "</style>\n",
       "<table border=\"1\" class=\"dataframe\">\n",
       "  <thead>\n",
       "    <tr style=\"text-align: right;\">\n",
       "      <th></th>\n",
       "      <th>firstname</th>\n",
       "      <th>lastname</th>\n",
       "    </tr>\n",
       "  </thead>\n",
       "  <tbody>\n",
       "    <tr>\n",
       "      <th>0</th>\n",
       "      <td>Jacqueline</td>\n",
       "      <td>Lynch</td>\n",
       "    </tr>\n",
       "    <tr>\n",
       "      <th>1</th>\n",
       "      <td>Tegan</td>\n",
       "      <td>Levine</td>\n",
       "    </tr>\n",
       "    <tr>\n",
       "      <th>2</th>\n",
       "      <td>Sara</td>\n",
       "      <td>Johnson</td>\n",
       "    </tr>\n",
       "  </tbody>\n",
       "</table>\n",
       "</div>"
      ],
      "text/plain": [
       "    firstname lastname\n",
       "0  Jacqueline    Lynch\n",
       "1       Tegan   Levine\n",
       "2        Sara  Johnson"
      ]
     },
     "execution_count": 23,
     "metadata": {},
     "output_type": "execute_result"
    }
   ],
   "source": [
    "#execute SELECT query\n",
    "try:\n",
    "    rows = session.execute(username_query)\n",
    "except Exception as e:\n",
    "    print(e)\n",
    "    \n",
    "#initialize output dataframe\n",
    "df_username = pd.DataFrame(columns=['firstname', 'lastname'])\n",
    "\n",
    "# append query output to dataframe\n",
    "for row in rows:\n",
    "    df_username = df_username.append(row, ignore_index=True)\n",
    "df_username.head()"
   ]
  },
  {
   "cell_type": "markdown",
   "metadata": {},
   "source": [
    "# Drop Tables"
   ]
  },
  {
   "cell_type": "code",
   "execution_count": 24,
   "metadata": {},
   "outputs": [],
   "source": [
    "try:\n",
    "    session.execute(\"DROP TABLE song\")\n",
    "except Exception as e:\n",
    "    print(e)\n",
    "\n",
    "try:\n",
    "    session.execute(\"DROP TABLE user_playlist_session\")\n",
    "except Exception as e:\n",
    "    print(e)\n",
    "\n",
    "try:\n",
    "    session.execute(\"DROP TABLE username\")\n",
    "except Exception as e:\n",
    "    print(e)"
   ]
  },
  {
   "cell_type": "markdown",
   "metadata": {},
   "source": [
    "# Close Session and Cluster Connection¶"
   ]
  },
  {
   "cell_type": "code",
   "execution_count": 3,
   "metadata": {},
   "outputs": [],
   "source": [
    "session.shutdown()\n",
    "cluster.shutdown()"
   ]
  }
 ],
 "metadata": {
  "kernelspec": {
   "display_name": "Python 3",
   "language": "python",
   "name": "python3"
  },
  "language_info": {
   "codemirror_mode": {
    "name": "ipython",
    "version": 3
   },
   "file_extension": ".py",
   "mimetype": "text/x-python",
   "name": "python",
   "nbconvert_exporter": "python",
   "pygments_lexer": "ipython3",
   "version": "3.7.2"
  },
  "toc": {
   "base_numbering": 1,
   "nav_menu": {},
   "number_sections": true,
   "sideBar": true,
   "skip_h1_title": false,
   "title_cell": "Table of Contents",
   "title_sidebar": "Contents",
   "toc_cell": true,
   "toc_position": {},
   "toc_section_display": true,
   "toc_window_display": false
  },
  "varInspector": {
   "cols": {
    "lenName": 16,
    "lenType": 16,
    "lenVar": 40
   },
   "kernels_config": {
    "python": {
     "delete_cmd_postfix": "",
     "delete_cmd_prefix": "del ",
     "library": "var_list.py",
     "varRefreshCmd": "print(var_dic_list())"
    },
    "r": {
     "delete_cmd_postfix": ") ",
     "delete_cmd_prefix": "rm(",
     "library": "var_list.r",
     "varRefreshCmd": "cat(var_dic_list()) "
    }
   },
   "types_to_exclude": [
    "module",
    "function",
    "builtin_function_or_method",
    "instance",
    "_Feature"
   ],
   "window_display": false
  }
 },
 "nbformat": 4,
 "nbformat_minor": 4
}
